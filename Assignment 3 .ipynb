{
 "cells": [
  {
   "cell_type": "code",
   "execution_count": 1,
   "metadata": {},
   "outputs": [],
   "source": [
    "dataset = read.csv('Bankruptcy.csv')"
   ]
  },
  {
   "cell_type": "code",
   "execution_count": 8,
   "metadata": {
    "scrolled": true
   },
   "outputs": [
    {
     "data": {
      "text/plain": [
       "   CASH_DEBT            ROA               CURRENT       ASSET_SALES    \n",
       " Min.   :-0.5600   Min.   :-0.410000   Min.   :0.330   Min.   :0.1300  \n",
       " 1st Qu.:-0.0700   1st Qu.:-0.052500   1st Qu.:1.370   1st Qu.:0.2850  \n",
       " Median : 0.1200   Median : 0.035000   Median :1.935   Median :0.4250  \n",
       " Mean   : 0.0963   Mean   :-0.006957   Mean   :2.033   Mean   :0.4317  \n",
       " 3rd Qu.: 0.2150   3rd Qu.: 0.070000   3rd Qu.:2.425   3rd Qu.:0.5475  \n",
       " Max.   : 0.5800   Max.   : 0.140000   Max.   :5.060   Max.   :0.9500  \n",
       "      Status  \n",
       " Bankrupt:21  \n",
       " Solvent :25  \n",
       "              \n",
       "              \n",
       "              \n",
       "              "
      ]
     },
     "metadata": {},
     "output_type": "display_data"
    }
   ],
   "source": [
    "summary(dataset)"
   ]
  },
  {
   "cell_type": "markdown",
   "metadata": {},
   "source": [
    "## Question 1: "
   ]
  },
  {
   "attachments": {},
   "cell_type": "markdown",
   "metadata": {},
   "source": [
    "Construct a 95% confidence interval for the average ROA. Based on this confidence interval, what is the maximum ROA that a firm can expect with 95% confidence. Write the R code that you used to arrive at this answer."
   ]
  },
  {
   "cell_type": "code",
   "execution_count": 16,
   "metadata": {},
   "outputs": [],
   "source": [
    "error <- qt(0.975,df=length(dataset$ROA)-1)*sd(dataset$ROA)/sqrt(length(dataset$ROA))\n",
    "left <- mean(dataset$ROA)-error\n",
    "right <- mean(dataset$ROA)+error"
   ]
  },
  {
   "cell_type": "code",
   "execution_count": 17,
   "metadata": {},
   "outputs": [
    {
     "data": {
      "text/html": [
       "-0.0437654423060358"
      ],
      "text/latex": [
       "-0.0437654423060358"
      ],
      "text/markdown": [
       "-0.0437654423060358"
      ],
      "text/plain": [
       "[1] -0.04376544"
      ]
     },
     "metadata": {},
     "output_type": "display_data"
    }
   ],
   "source": [
    "left"
   ]
  },
  {
   "cell_type": "code",
   "execution_count": 18,
   "metadata": {},
   "outputs": [
    {
     "data": {
      "text/html": [
       "0.0298523988277749"
      ],
      "text/latex": [
       "0.0298523988277749"
      ],
      "text/markdown": [
       "0.0298523988277749"
      ],
      "text/plain": [
       "[1] 0.0298524"
      ]
     },
     "metadata": {},
     "output_type": "display_data"
    }
   ],
   "source": [
    "right"
   ]
  },
  {
   "cell_type": "markdown",
   "metadata": {},
   "source": [
    "With 95% Confidence Interval the maximum ROA which can be expected is: ~0.023"
   ]
  },
  {
   "cell_type": "markdown",
   "metadata": {},
   "source": [
    "## Question 2:"
   ]
  },
  {
   "attachments": {},
   "cell_type": "markdown",
   "metadata": {},
   "source": [
    "Is ROA statistically different for solvent versus bankrupt firms? If so, which set of firms have higher ROA? To answer these questions, split the data into two subsets for solvent and bankrupt firms. Construct two 95% confidence intervals, one for solvent and one for bankrupt firms.  Based on these two confidence intervals, is it likely that the average ROA of solvent firms is the same as that of bankrupt firms? Write the R code that you used to derive this inference."
   ]
  },
  {
   "cell_type": "code",
   "execution_count": 10,
   "metadata": {},
   "outputs": [],
   "source": [
    "dt1_sol<-subset(dataset, dataset$Status=='Solvent')\n",
    "dt2_bnkp<-subset(dataset, dataset$Status=='Bankrupt')"
   ]
  },
  {
   "cell_type": "code",
   "execution_count": 11,
   "metadata": {},
   "outputs": [
    {
     "data": {
      "text/plain": [
       "   CASH_DEBT            ROA             CURRENT       ASSET_SALES    \n",
       " Min.   :-0.3300   Min.   :-0.0900   Min.   :0.460   Min.   :0.1300  \n",
       " 1st Qu.: 0.1400   1st Qu.: 0.0400   1st Qu.:2.050   1st Qu.:0.3300  \n",
       " Median : 0.1900   Median : 0.0600   Median :2.350   Median :0.4500  \n",
       " Mean   : 0.2352   Mean   : 0.0556   Mean   :2.594   Mean   :0.4268  \n",
       " 3rd Qu.: 0.3800   3rd Qu.: 0.0800   3rd Qu.:2.920   3rd Qu.:0.5400  \n",
       " Max.   : 0.5800   Max.   : 0.1400   Max.   :5.060   Max.   :0.6900  \n",
       "      Status  \n",
       " Bankrupt: 0  \n",
       " Solvent :25  \n",
       "              \n",
       "              \n",
       "              \n",
       "              "
      ]
     },
     "metadata": {},
     "output_type": "display_data"
    }
   ],
   "source": [
    "summary(dt1_sol)"
   ]
  },
  {
   "cell_type": "code",
   "execution_count": 13,
   "metadata": {},
   "outputs": [
    {
     "data": {
      "text/plain": [
       "   CASH_DEBT             ROA              CURRENT       ASSET_SALES    \n",
       " Min.   :-0.56000   Min.   :-0.41000   Min.   :0.330   Min.   :0.1600  \n",
       " 1st Qu.:-0.14000   1st Qu.:-0.14000   1st Qu.:1.190   1st Qu.:0.2700  \n",
       " Median :-0.07000   Median :-0.06000   Median :1.370   Median :0.4000  \n",
       " Mean   :-0.06905   Mean   :-0.08143   Mean   :1.367   Mean   :0.4376  \n",
       " 3rd Qu.: 0.06000   3rd Qu.: 0.02000   3rd Qu.:1.510   3rd Qu.:0.6000  \n",
       " Max.   : 0.37000   Max.   : 0.11000   Max.   :2.150   Max.   :0.9500  \n",
       "      Status  \n",
       " Bankrupt:21  \n",
       " Solvent : 0  \n",
       "              \n",
       "              \n",
       "              \n",
       "              "
      ]
     },
     "metadata": {},
     "output_type": "display_data"
    }
   ],
   "source": [
    "summary(dt2_bnkp)"
   ]
  },
  {
   "cell_type": "code",
   "execution_count": 19,
   "metadata": {},
   "outputs": [
    {
     "data": {
      "text/html": [
       "0.0354807820157067"
      ],
      "text/latex": [
       "0.0354807820157067"
      ],
      "text/markdown": [
       "0.0354807820157067"
      ],
      "text/plain": [
       "[1] 0.03548078"
      ]
     },
     "metadata": {},
     "output_type": "display_data"
    },
    {
     "data": {
      "text/html": [
       "0.0757192179842933"
      ],
      "text/latex": [
       "0.0757192179842933"
      ],
      "text/markdown": [
       "0.0757192179842933"
      ],
      "text/plain": [
       "[1] 0.07571922"
      ]
     },
     "metadata": {},
     "output_type": "display_data"
    }
   ],
   "source": [
    "error_sol <- qt(0.975,df=length(dt1_sol$ROA)-1)*sd(dt1_sol$ROA)/sqrt(length(dt1_sol$ROA))\n",
    "left_sol <- mean(dt1_sol$ROA)-error_sol\n",
    "right_sol <- mean(dt1_sol$ROA)+error_sol\n",
    "left_sol\n",
    "right_sol"
   ]
  },
  {
   "cell_type": "code",
   "execution_count": 20,
   "metadata": {},
   "outputs": [
    {
     "data": {
      "text/html": [
       "-0.14739701471207"
      ],
      "text/latex": [
       "-0.14739701471207"
      ],
      "text/markdown": [
       "-0.14739701471207"
      ],
      "text/plain": [
       "[1] -0.147397"
      ]
     },
     "metadata": {},
     "output_type": "display_data"
    },
    {
     "data": {
      "text/html": [
       "-0.0154601281450733"
      ],
      "text/latex": [
       "-0.0154601281450733"
      ],
      "text/markdown": [
       "-0.0154601281450733"
      ],
      "text/plain": [
       "[1] -0.01546013"
      ]
     },
     "metadata": {},
     "output_type": "display_data"
    }
   ],
   "source": [
    "error_bnkp <- qt(0.975,df=length(dt2_bnkp$ROA)-1)*sd(dt2_bnkp$ROA)/sqrt(length(dt2_bnkp$ROA))\n",
    "left_bnkp <- mean(dt2_bnkp$ROA)-error_bnkp\n",
    "right_bnkp <- mean(dt2_bnkp$ROA)+error_bnkp\n",
    "left_bnkp\n",
    "right_bnkp"
   ]
  },
  {
   "cell_type": "markdown",
   "metadata": {},
   "source": [
    "Based on the two confidence interval we can say that it is very unlikely that the average ROA for the solvent and bankrupt firms will be same."
   ]
  },
  {
   "cell_type": "code",
   "execution_count": null,
   "metadata": {},
   "outputs": [],
   "source": []
  }
 ],
 "metadata": {
  "kernelspec": {
   "display_name": "R",
   "language": "R",
   "name": "ir"
  },
  "language_info": {
   "codemirror_mode": "r",
   "file_extension": ".r",
   "mimetype": "text/x-r-source",
   "name": "R",
   "pygments_lexer": "r",
   "version": "3.4.1"
  }
 },
 "nbformat": 4,
 "nbformat_minor": 2
}
