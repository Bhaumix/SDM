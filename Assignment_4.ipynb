{
 "cells": [
  {
   "cell_type": "code",
   "execution_count": 5,
   "metadata": {},
   "outputs": [],
   "source": [
    "d<-read.csv('Autoparts.csv')\n",
    "attach(d)"
   ]
  },
  {
   "cell_type": "code",
   "execution_count": 3,
   "metadata": {},
   "outputs": [],
   "source": [
    "m1 <- lm(Sales~Mktg, data=d);"
   ]
  },
  {
   "cell_type": "code",
   "execution_count": 5,
   "metadata": {},
   "outputs": [
    {
     "data": {
      "text/plain": [
       "\n",
       "Call:\n",
       "lm(formula = Sales ~ Mktg, data = d)\n",
       "\n",
       "Residuals:\n",
       "    Min      1Q  Median      3Q     Max \n",
       "-36.714 -14.685  -6.855  18.193  53.426 \n",
       "\n",
       "Coefficients:\n",
       "             Estimate Std. Error t value Pr(>|t|)   \n",
       "(Intercept) 77.383975  21.104050   3.667  0.00208 **\n",
       "Mktg        -0.008265   0.059436  -0.139  0.89114   \n",
       "---\n",
       "Signif. codes:  0 ‘***’ 0.001 ‘**’ 0.01 ‘*’ 0.05 ‘.’ 0.1 ‘ ’ 1\n",
       "\n",
       "Residual standard error: 29.31 on 16 degrees of freedom\n",
       "Multiple R-squared:  0.001207,\tAdjusted R-squared:  -0.06122 \n",
       "F-statistic: 0.01934 on 1 and 16 DF,  p-value: 0.8911\n"
      ]
     },
     "metadata": {},
     "output_type": "display_data"
    }
   ],
   "source": [
    "summary(m1)"
   ]
  },
  {
   "cell_type": "markdown",
   "metadata": {},
   "source": [
    "The Findings:\n",
    "\n",
    "1. The relationship between the variables Sales and Mktg is negatively correlated and not significant.\n",
    "2. The model only explains 0.12% of the data.\n",
    "3. The p-value is 0.8911 which is very low, that indicates that the model is poor."
   ]
  },
  {
   "cell_type": "code",
   "execution_count": 6,
   "metadata": {},
   "outputs": [
    {
     "data": {
      "text/plain": [
       "\n",
       "Call:\n",
       "lm(formula = Sales ~ Mktg + Outlets + Popn + Vehicles + Reps, \n",
       "    data = d)\n",
       "\n",
       "Residuals:\n",
       "     Min       1Q   Median       3Q      Max \n",
       "-10.1716  -1.4581   0.0432   2.1715   5.0267 \n",
       "\n",
       "Coefficients:\n",
       "             Estimate Std. Error t value Pr(>|t|)    \n",
       "(Intercept) 10.582457   5.414913   1.954  0.07437 .  \n",
       "Mktg         0.036144   0.009645   3.747  0.00278 ** \n",
       "Outlets      0.131756   0.015815   8.331 2.48e-06 ***\n",
       "Popn        -6.050930   2.668976  -2.267  0.04266 *  \n",
       "Vehicles     6.527655   4.480298   1.457  0.17079    \n",
       "Reps        -0.041927   0.766622  -0.055  0.95729    \n",
       "---\n",
       "Signif. codes:  0 ‘***’ 0.001 ‘**’ 0.01 ‘*’ 0.05 ‘.’ 0.1 ‘ ’ 1\n",
       "\n",
       "Residual standard error: 4.179 on 12 degrees of freedom\n",
       "Multiple R-squared:  0.9848,\tAdjusted R-squared:  0.9784 \n",
       "F-statistic: 155.3 on 5 and 12 DF,  p-value: 1.789e-10\n"
      ]
     },
     "metadata": {},
     "output_type": "display_data"
    }
   ],
   "source": [
    "m2 <- lm(Sales~Mktg+Outlets+Popn+Vehicles+Reps, data=d);\n",
    "summary(m2);"
   ]
  },
  {
   "cell_type": "markdown",
   "metadata": {},
   "source": [
    "The Findings:\n",
    "\n",
    "1. Outlets become the most significant variable for sales, but the impact is not so high.\n",
    "2. Population has less significant but negative impact on sales\n",
    "3. This model is relatively better in terms of R-squared. It explains more than 98% of the data."
   ]
  },
  {
   "cell_type": "code",
   "execution_count": null,
   "metadata": {},
   "outputs": [],
   "source": []
  }
 ],
 "metadata": {
  "kernelspec": {
   "display_name": "R",
   "language": "R",
   "name": "ir"
  },
  "language_info": {
   "codemirror_mode": "r",
   "file_extension": ".r",
   "mimetype": "text/x-r-source",
   "name": "R",
   "pygments_lexer": "r",
   "version": "3.4.1"
  }
 },
 "nbformat": 4,
 "nbformat_minor": 2
}
