{
 "cells": [
  {
   "cell_type": "code",
   "execution_count": 1,
   "metadata": {},
   "outputs": [],
   "source": [
    "d<-read.csv('Autoparts.csv')\n",
    "attach(d)"
   ]
  },
  {
   "cell_type": "code",
   "execution_count": 2,
   "metadata": {},
   "outputs": [],
   "source": [
    "m1 <- lm(Sales~Mktg, data=d);"
   ]
  },
  {
   "cell_type": "code",
   "execution_count": 5,
   "metadata": {},
   "outputs": [
    {
     "data": {
      "text/plain": [
       "\n",
       "Call:\n",
       "lm(formula = Sales ~ Mktg, data = d)\n",
       "\n",
       "Residuals:\n",
       "    Min      1Q  Median      3Q     Max \n",
       "-36.714 -14.685  -6.855  18.193  53.426 \n",
       "\n",
       "Coefficients:\n",
       "             Estimate Std. Error t value Pr(>|t|)   \n",
       "(Intercept) 77.383975  21.104050   3.667  0.00208 **\n",
       "Mktg        -0.008265   0.059436  -0.139  0.89114   \n",
       "---\n",
       "Signif. codes:  0 ‘***’ 0.001 ‘**’ 0.01 ‘*’ 0.05 ‘.’ 0.1 ‘ ’ 1\n",
       "\n",
       "Residual standard error: 29.31 on 16 degrees of freedom\n",
       "Multiple R-squared:  0.001207,\tAdjusted R-squared:  -0.06122 \n",
       "F-statistic: 0.01934 on 1 and 16 DF,  p-value: 0.8911\n"
      ]
     },
     "metadata": {},
     "output_type": "display_data"
    }
   ],
   "source": [
    "summary(m1)"
   ]
  },
  {
   "cell_type": "markdown",
   "metadata": {},
   "source": [
    "The Findings:\n",
    "\n",
    "1. The relationship between the variables Sales and Mktg is negatively correlated and not significant.\n",
    "2. The model only explains 0.12% of the data.\n",
    "3. The p-value is 0.8911 which is very low, that indicates that the model is poor."
   ]
  },
  {
   "cell_type": "code",
   "execution_count": 18,
   "metadata": {},
   "outputs": [
    {
     "data": {
      "text/plain": [
       "\n",
       "Call:\n",
       "lm(formula = Sales ~ Mktg + Outlets + Popn + Vehicles + Reps, \n",
       "    data = d)\n",
       "\n",
       "Residuals:\n",
       "     Min       1Q   Median       3Q      Max \n",
       "-10.1716  -1.4581   0.0432   2.1715   5.0267 \n",
       "\n",
       "Coefficients:\n",
       "             Estimate Std. Error t value Pr(>|t|)    \n",
       "(Intercept) 10.582457   5.414913   1.954  0.07437 .  \n",
       "Mktg         0.036144   0.009645   3.747  0.00278 ** \n",
       "Outlets      0.131756   0.015815   8.331 2.48e-06 ***\n",
       "Popn        -6.050930   2.668976  -2.267  0.04266 *  \n",
       "Vehicles     6.527655   4.480298   1.457  0.17079    \n",
       "Reps        -0.041927   0.766622  -0.055  0.95729    \n",
       "---\n",
       "Signif. codes:  0 ‘***’ 0.001 ‘**’ 0.01 ‘*’ 0.05 ‘.’ 0.1 ‘ ’ 1\n",
       "\n",
       "Residual standard error: 4.179 on 12 degrees of freedom\n",
       "Multiple R-squared:  0.9848,\tAdjusted R-squared:  0.9784 \n",
       "F-statistic: 155.3 on 5 and 12 DF,  p-value: 1.789e-10\n"
      ]
     },
     "metadata": {},
     "output_type": "display_data"
    }
   ],
   "source": [
    "m2 <- lm(Sales~Mktg+Outlets+Popn+Vehicles+Reps, data=d);\n",
    "summary(m2);"
   ]
  },
  {
   "cell_type": "markdown",
   "metadata": {},
   "source": [
    "The Findings:\n",
    "\n",
    "1. Outlets become the most significant variable for sales, but the impact is not so high.\n",
    "2. Population has less significant but negative impact on sales\n",
    "3. This model is relatively better in terms of R-squared. It explains more than 98% of the data."
   ]
  },
  {
   "cell_type": "code",
   "execution_count": 26,
   "metadata": {},
   "outputs": [],
   "source": [
    "rsq_m1<-summary(m1)$r.squared\n",
    "rsq_m2<-summary(m2)$r.squared\n",
    "\n",
    "adj_rsq_m1<-summary(m1)$adj.r.squared\n",
    "adj_rsq_m2<-summary(m2)$adj.r.squared\n",
    "\n",
    "aic_m1<-AIC(m1)\n",
    "aic_m2<-AIC(m2)\n",
    "\n",
    "bic_m1<-BIC(m1)\n",
    "bic_m2<-BIC(m2)"
   ]
  },
  {
   "cell_type": "code",
   "execution_count": 27,
   "metadata": {},
   "outputs": [],
   "source": [
    "mat_table <- matrix(c(rsq_m1, adj_rsq_m1, aic_m1, bic_m1, rsq_m2, adj_rsq_m2, aic_m2, bic_m2),ncol=4,byrow=TRUE)\n",
    "colnames(mat_table) <- c(\"R-Squared\",\"Adjusted R-Squared\",\"AIC\", \"BIC\")\n",
    "rownames(mat_table) <- c(\"Model 1\",\"Model 2\")"
   ]
  },
  {
   "cell_type": "code",
   "execution_count": 28,
   "metadata": {},
   "outputs": [
    {
     "data": {
      "text/html": [
       "<table>\n",
       "<thead><tr><th></th><th scope=col>R-Squared</th><th scope=col>Adjusted R-Squared</th><th scope=col>AIC</th><th scope=col>BIC</th></tr></thead>\n",
       "<tbody>\n",
       "\t<tr><th scope=row>Model 1</th><td>0.001207045</td><td>-0.06121751</td><td>176.5729   </td><td>179.2441   </td></tr>\n",
       "\t<tr><th scope=row>Model 2</th><td>0.984777594</td><td> 0.97843493</td><td>109.2649   </td><td>115.4975   </td></tr>\n",
       "</tbody>\n",
       "</table>\n"
      ],
      "text/latex": [
       "\\begin{tabular}{r|llll}\n",
       "  & R-Squared & Adjusted R-Squared & AIC & BIC\\\\\n",
       "\\hline\n",
       "\tModel 1 & 0.001207045 & -0.06121751 & 176.5729    & 179.2441   \\\\\n",
       "\tModel 2 & 0.984777594 &  0.97843493 & 109.2649    & 115.4975   \\\\\n",
       "\\end{tabular}\n"
      ],
      "text/markdown": [
       "\n",
       "| <!--/--> | R-Squared | Adjusted R-Squared | AIC | BIC | \n",
       "|---|---|\n",
       "| Model 1 | 0.001207045 | -0.06121751 | 176.5729    | 179.2441    | \n",
       "| Model 2 | 0.984777594 |  0.97843493 | 109.2649    | 115.4975    | \n",
       "\n",
       "\n"
      ],
      "text/plain": [
       "        R-Squared   Adjusted R-Squared AIC      BIC     \n",
       "Model 1 0.001207045 -0.06121751        176.5729 179.2441\n",
       "Model 2 0.984777594  0.97843493        109.2649 115.4975"
      ]
     },
     "metadata": {},
     "output_type": "display_data"
    }
   ],
   "source": [
    "mat_table"
   ]
  },
  {
   "cell_type": "markdown",
   "metadata": {},
   "source": [
    "The Value of AIC and BIC is relatively lower for Model 2 which indicates that the Model 2 is better than the Model 1."
   ]
  },
  {
   "cell_type": "code",
   "execution_count": null,
   "metadata": {},
   "outputs": [],
   "source": []
  }
 ],
 "metadata": {
  "kernelspec": {
   "display_name": "R",
   "language": "R",
   "name": "ir"
  },
  "language_info": {
   "codemirror_mode": "r",
   "file_extension": ".r",
   "mimetype": "text/x-r-source",
   "name": "R",
   "pygments_lexer": "r",
   "version": "3.4.1"
  }
 },
 "nbformat": 4,
 "nbformat_minor": 2
}
