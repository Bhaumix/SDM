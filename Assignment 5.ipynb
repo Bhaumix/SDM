{
 "cells": [
  {
   "cell_type": "code",
   "execution_count": 1,
   "metadata": {},
   "outputs": [],
   "source": [
    "d<-read.csv('Catalogs.csv')\n",
    "attach(d)"
   ]
  },
  {
   "cell_type": "markdown",
   "metadata": {},
   "source": [
    "# Question 1:"
   ]
  },
  {
   "cell_type": "code",
   "execution_count": 2,
   "metadata": {},
   "outputs": [
    {
     "data": {
      "text/plain": [
       "\n",
       "Call:\n",
       "lm(formula = AmountSpent ~ Salary + Catalogs, data = d)\n",
       "\n",
       "Residuals:\n",
       "    Min      1Q  Median      3Q     Max \n",
       "-1761.3  -327.9    14.6   270.6  3387.8 \n",
       "\n",
       "Coefficients:\n",
       "              Estimate Std. Error t value Pr(>|t|)    \n",
       "(Intercept) -6.591e+02  5.368e+01  -12.28   <2e-16 ***\n",
       "Salary       1.991e-02  6.299e-04   31.61   <2e-16 ***\n",
       "Catalogs     5.170e+01  2.912e+00   17.75   <2e-16 ***\n",
       "---\n",
       "Signif. codes:  0 ‘***’ 0.001 ‘**’ 0.01 ‘*’ 0.05 ‘.’ 0.1 ‘ ’ 1\n",
       "\n",
       "Residual standard error: 599.2 on 997 degrees of freedom\n",
       "Multiple R-squared:  0.6121,\tAdjusted R-squared:  0.6113 \n",
       "F-statistic: 786.5 on 2 and 997 DF,  p-value: < 2.2e-16\n"
      ]
     },
     "metadata": {},
     "output_type": "display_data"
    }
   ],
   "source": [
    "m1 <- lm(AmountSpent~Salary+Catalogs, data = d)\n",
    "summary(m1)"
   ]
  },
  {
   "cell_type": "code",
   "execution_count": 9,
   "metadata": {},
   "outputs": [
    {
     "data": {
      "text/plain": [
       "\n",
       "Call:\n",
       "lm(formula = AmountSpent ~ Salary * Catalogs, data = d)\n",
       "\n",
       "Residuals:\n",
       "     Min       1Q   Median       3Q      Max \n",
       "-2138.38  -247.57   -17.82   228.50  2913.79 \n",
       "\n",
       "Coefficients:\n",
       "                  Estimate Std. Error t value Pr(>|t|)    \n",
       "(Intercept)      6.855e+01  8.680e+01   0.790    0.430    \n",
       "Salary           6.095e-03  1.461e-03   4.171  3.3e-05 ***\n",
       "Catalogs        -4.001e-01  5.739e+00  -0.070    0.944    \n",
       "Salary:Catalogs  9.434e-04  9.104e-05  10.363  < 2e-16 ***\n",
       "---\n",
       "Signif. codes:  0 ‘***’ 0.001 ‘**’ 0.01 ‘*’ 0.05 ‘.’ 0.1 ‘ ’ 1\n",
       "\n",
       "Residual standard error: 569.6 on 996 degrees of freedom\n",
       "Multiple R-squared:  0.6498,\tAdjusted R-squared:  0.6488 \n",
       "F-statistic: 616.1 on 3 and 996 DF,  p-value: < 2.2e-16\n"
      ]
     },
     "metadata": {},
     "output_type": "display_data"
    }
   ],
   "source": [
    "m2<-lm(AmountSpent~Salary*Catalogs, data = d)\n",
    "summary(m2)"
   ]
  },
  {
   "cell_type": "markdown",
   "metadata": {},
   "source": [
    "### Which of the two models is a better predictor of AmountSpent?"
   ]
  },
  {
   "attachments": {},
   "cell_type": "markdown",
   "metadata": {},
   "source": [
    "Model 1: AmountSpent = b0 + b1 Salary + b2 Catalogs + e\n",
    "Adjusted R-squared:  0.6113\n",
    "\n",
    "Model 2: AmountSpent = b0 + b1 Salary + b2 Catalogs + b3 Salary*Catalogs + e\n",
    "Adjusted R-squared:  0.6488\n",
    "\n",
    "Model 2 is better because it has higher adjusted R-squared."
   ]
  },
  {
   "cell_type": "markdown",
   "metadata": {},
   "source": [
    "### Are Salary and Catalog important predictors of AmountSpent? Why or why not?"
   ]
  },
  {
   "attachments": {},
   "cell_type": "markdown",
   "metadata": {},
   "source": [
    "In Model 1, Salary and Catalogs are both important predictors. \n",
    "\n",
    "In Model 2 Salary and Salary\\*Catalogs are important but Salary is not. But as Salary\\*Catalogs are important, Salary and Catalogs are important."
   ]
  },
  {
   "cell_type": "markdown",
   "metadata": {},
   "source": [
    "### In each of the two models, If Catalogs are increased by 1, what is the corresponding impact on AmountSpent?"
   ]
  },
  {
   "cell_type": "markdown",
   "metadata": {},
   "source": [
    "In Model 1, b2 = 51.7, implies if catalog increases by 1, AmountSpent increases by $51.70. \n",
    "\n",
    "In Model 2, AmountSpent = 68.55 + 0.006*Salary – 0.4*Catalogs + .0009*Salary*Catalogs, which implies that AmountSpent = 68.15 + 0.0069*Salary."
   ]
  },
  {
   "cell_type": "markdown",
   "metadata": {},
   "source": [
    "## Question 2:"
   ]
  },
  {
   "cell_type": "code",
   "execution_count": 5,
   "metadata": {},
   "outputs": [
    {
     "data": {
      "text/plain": [
       "\n",
       "Call:\n",
       "lm(formula = AmountSpent ~ (as.factor(Location) * Salary) + (as.factor(Location) * \n",
       "    Catalogs) + (as.factor(Location) * Children), data = d)\n",
       "\n",
       "Residuals:\n",
       "     Min       1Q   Median       3Q      Max \n",
       "-1348.39  -299.38   -40.29   213.38  2637.35 \n",
       "\n",
       "Coefficients:\n",
       "                                  Estimate Std. Error t value Pr(>|t|)    \n",
       "(Intercept)                     -3.103e+02  5.536e+01  -5.605  2.7e-08 ***\n",
       "as.factor(Location)Far          -2.016e+02  1.019e+02  -1.979   0.0481 *  \n",
       "Salary                           1.737e-02  6.051e-04  28.699  < 2e-16 ***\n",
       "Catalogs                         3.988e+01  2.850e+00  13.993  < 2e-16 ***\n",
       "Children                        -1.917e+02  1.753e+01 -10.934  < 2e-16 ***\n",
       "as.factor(Location)Far:Salary    1.212e-02  1.136e-03  10.669  < 2e-16 ***\n",
       "as.factor(Location)Far:Catalogs  5.890e+00  5.297e+00   1.112   0.2665    \n",
       "as.factor(Location)Far:Children -4.988e+01  3.237e+01  -1.541   0.1237    \n",
       "---\n",
       "Signif. codes:  0 ‘***’ 0.001 ‘**’ 0.01 ‘*’ 0.05 ‘.’ 0.1 ‘ ’ 1\n",
       "\n",
       "Residual standard error: 484.5 on 992 degrees of freedom\n",
       "Multiple R-squared:  0.7477,\tAdjusted R-squared:  0.7459 \n",
       "F-statistic: 419.9 on 7 and 992 DF,  p-value: < 2.2e-16\n"
      ]
     },
     "metadata": {},
     "output_type": "display_data"
    }
   ],
   "source": [
    "m3<- lm(AmountSpent~(as.factor(Location)*Salary)+(as.factor(Location)*Catalogs)+(as.factor(Location)*Children), data = d)\n",
    "summary(m3)"
   ]
  },
  {
   "attachments": {},
   "cell_type": "markdown",
   "metadata": {},
   "source": [
    "### What is your regression equation?"
   ]
  },
  {
   "cell_type": "markdown",
   "metadata": {},
   "source": [
    "AmountSpent = b0 + b1 Salary + b2 Catalogs + b3 Children + b4 Location + b5 Salary\\*Location + b6 Catalogs\\*Location + b7 Children\\*Location + SE"
   ]
  },
  {
   "attachments": {},
   "cell_type": "markdown",
   "metadata": {},
   "source": [
    "### Which interaction term (if any) are significant?"
   ]
  },
  {
   "cell_type": "markdown",
   "metadata": {},
   "source": [
    "As per above summary only Location\\*Salary is significant interaction term"
   ]
  },
  {
   "cell_type": "markdown",
   "metadata": {},
   "source": [
    "## Question 3"
   ]
  },
  {
   "cell_type": "code",
   "execution_count": 6,
   "metadata": {},
   "outputs": [
    {
     "data": {
      "text/plain": [
       "\n",
       "Call:\n",
       "lm(formula = AmountSpent ~ (Catalogs * Salary) + (Catalogs * \n",
       "    Children) + (Catalogs * as.factor(Location)), data = d)\n",
       "\n",
       "Residuals:\n",
       "     Min       1Q   Median       3Q      Max \n",
       "-1355.88  -262.14   -40.02   196.08  2260.44 \n",
       "\n",
       "Coefficients:\n",
       "                                  Estimate Std. Error t value Pr(>|t|)    \n",
       "(Intercept)                      1.464e+02  8.344e+01   1.755   0.0796 .  \n",
       "Catalogs                        -6.124e+00  5.376e+00  -1.139   0.2549    \n",
       "Salary                           7.134e-03  1.223e-03   5.832 7.42e-09 ***\n",
       "Children                        -6.154e+01  3.333e+01  -1.847   0.0651 .  \n",
       "as.factor(Location)Far           1.151e+02  8.476e+01   1.358   0.1748    \n",
       "Catalogs:Salary                  9.318e-04  7.603e-05  12.255  < 2e-16 ***\n",
       "Catalogs:Children               -1.024e+01  2.124e+00  -4.820 1.66e-06 ***\n",
       "Catalogs:as.factor(Location)Far  2.461e+01  5.030e+00   4.894 1.15e-06 ***\n",
       "---\n",
       "Signif. codes:  0 ‘***’ 0.001 ‘**’ 0.01 ‘*’ 0.05 ‘.’ 0.1 ‘ ’ 1\n",
       "\n",
       "Residual standard error: 473.3 on 992 degrees of freedom\n",
       "Multiple R-squared:  0.7592,\tAdjusted R-squared:  0.7575 \n",
       "F-statistic: 446.8 on 7 and 992 DF,  p-value: < 2.2e-16\n"
      ]
     },
     "metadata": {},
     "output_type": "display_data"
    }
   ],
   "source": [
    "m4<- lm(AmountSpent~(Catalogs*Salary)+(Catalogs*Children)+(Catalogs*as.factor(Location)), data = d)\n",
    "summary(m4)"
   ]
  },
  {
   "attachments": {},
   "cell_type": "markdown",
   "metadata": {},
   "source": [
    "### Is this model better than that in Question 2?"
   ]
  },
  {
   "attachments": {},
   "cell_type": "markdown",
   "metadata": {},
   "source": [
    "Adjusted R-square in this model is 0.7575, compared to 0.7459 for the model in Question 2. Hence, this model is slightly better."
   ]
  },
  {
   "attachments": {},
   "cell_type": "markdown",
   "metadata": {},
   "source": [
    "### Which of the three interaction terms are significant?"
   ]
  },
  {
   "cell_type": "markdown",
   "metadata": {},
   "source": [
    "All three interaction terms involving Catalogs are significant."
   ]
  }
 ],
 "metadata": {
  "kernelspec": {
   "display_name": "R",
   "language": "R",
   "name": "ir"
  },
  "language_info": {
   "codemirror_mode": "r",
   "file_extension": ".r",
   "mimetype": "text/x-r-source",
   "name": "R",
   "pygments_lexer": "r",
   "version": "3.4.1"
  }
 },
 "nbformat": 4,
 "nbformat_minor": 2
}
